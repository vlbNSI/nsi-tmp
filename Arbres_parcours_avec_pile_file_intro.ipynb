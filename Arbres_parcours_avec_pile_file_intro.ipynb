{
 "cells": [
  {
   "cell_type": "markdown",
   "metadata": {},
   "source": [
    "<table>   <tr>\n",
    "    <td>Numérique et Science de l'informatique </td>\n",
    "    <td><img src=\"logo.jpg\"      alt=\"St Joseph-La Salle LORIENT\" width=\"50\"      height=\"48\"></td>\n",
    "  </tr>   </table>\n",
    "  \n",
    "# Introduction aux piles et aux files pour une utilisation dans les arbres binaires"
   ]
  },
  {
   "cell_type": "markdown",
   "metadata": {},
   "source": [
    "### Mise en oeuvre d'une pile ou LIFO (Last Input,Fist Output)"
   ]
  },
  {
   "cell_type": "code",
   "execution_count": null,
   "metadata": {},
   "outputs": [],
   "source": [
    "#une pile\n",
    "rep = 0\n",
    "pile = []\n",
    "while (rep!=4):\n",
    "    print(\"\"\"\n",
    "    1) pour ajouter ( à la fin)\n",
    "    2) pour retirer (le dernier)\n",
    "    3) pour afficher\n",
    "    4) pour quitter \"\"\")\n",
    "    rep = int(input(\"choix ?\"))\n",
    "    if rep == 1:\n",
    "        v = input(\"entrer la valeur à empiler \")\n",
    "        pile.append(v)\n",
    "        print(\"la pile contient \", pile)\n",
    "    elif rep==2:\n",
    "        if len(pile)>=1:\n",
    "            pile.pop()\n",
    "            print(\"la pile contient \", pile)\n",
    "        else:\n",
    "            print(\"la pile est déjà vide!\")\n",
    "        print(\"la pile contient \", pile)\n",
    "    elif rep==3:\n",
    "         print(\"la pile contient \", pile)"
   ]
  },
  {
   "cell_type": "markdown",
   "metadata": {},
   "source": [
    "### Mise en oeuvre d'une file ou FIFO (First Input, First Ouptut)"
   ]
  },
  {
   "cell_type": "code",
   "execution_count": null,
   "metadata": {},
   "outputs": [],
   "source": [
    "#une file\n",
    "rep = 0\n",
    "file = []\n",
    "while (rep!=4):\n",
    "    print(\"\"\"\n",
    "    1) pour ajouter ( à la fin)\n",
    "    2) pour retirer (le premier)\n",
    "    3) pour afficher\n",
    "    4) pour quitter \"\"\")\n",
    "    rep = int(input(\"choix ?\"))\n",
    "    if rep == 1:\n",
    "        v = input(\"entrer la valeur à enfiler \")\n",
    "        file.append(v)\n",
    "        print(\"la file contient \", file)\n",
    "    elif rep==2:\n",
    "        if len(file)>=1:\n",
    "            file.pop(0)\n",
    "            print(\"la file contient \", file)\n",
    "        else:\n",
    "            print(\"la file est déjà vide!\")\n",
    "    elif rep==3:\n",
    "         print(\"la file contient \", file)"
   ]
  },
  {
   "cell_type": "code",
   "execution_count": null,
   "metadata": {},
   "outputs": [],
   "source": []
  }
 ],
 "metadata": {
  "kernelspec": {
   "display_name": "Python 3",
   "language": "python",
   "name": "python3"
  },
  "language_info": {
   "codemirror_mode": {
    "name": "ipython",
    "version": 3
   },
   "file_extension": ".py",
   "mimetype": "text/x-python",
   "name": "python",
   "nbconvert_exporter": "python",
   "pygments_lexer": "ipython3",
   "version": "3.7.3"
  }
 },
 "nbformat": 4,
 "nbformat_minor": 2
}
